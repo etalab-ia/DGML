{
 "cells": [
  {
   "cell_type": "markdown",
   "metadata": {},
   "source": [
    "# Profiling du dataset *Orientation des toits en France*"
   ]
  },
  {
   "cell_type": "markdown",
   "metadata": {},
   "source": [
    "Dans ce notebook, on évalue l'exploitabilité du jeu de données *Données sur l’orientation des toits en France* (https://www.data.gouv.fr/fr/datasets/donnees-brutes-de-contribution-anonymisees/#_) par des algorithmes de Machine Learning. Deux datasets sont fournis: le dataset *contributions* et le dataset *buildings*. Une réutilisation importante de ce dataset a été faite par *OpenSolar* (voici le code source du projet: https://github.com/opensolarmap/solml)"
   ]
  },
  {
   "cell_type": "code",
   "execution_count": 1,
   "metadata": {},
   "outputs": [],
   "source": [
    "import pandas as pd\n",
    "import pandas_profiling\n",
    "from pandas_profiling import ProfileReport"
   ]
  },
  {
   "cell_type": "markdown",
   "metadata": {},
   "source": [
    "### Import des jeu de données "
   ]
  },
  {
   "cell_type": "markdown",
   "metadata": {},
   "source": [
    "**Dataset buildings**"
   ]
  },
  {
   "cell_type": "code",
   "execution_count": 1,
   "metadata": {},
   "outputs": [],
   "source": [
    "#url_build = \"https://www.data.gouv.fr/fr/datasets/r/849fa6c2-7d0b-46b8-9814-29bf18b35bfa\"\n",
    "#data_build = pd.read_csv(url_build, compression='gzip', error_bad_lines=False)"
   ]
  },
  {
   "cell_type": "markdown",
   "metadata": {},
   "source": [
    "**Dataset contributions**"
   ]
  },
  {
   "cell_type": "code",
   "execution_count": 2,
   "metadata": {},
   "outputs": [],
   "source": [
    "#url_contrib = \"https://www.data.gouv.fr/fr/datasets/r/aef0f017-ba25-4772-b0e7-8693308d4404\"\n",
    "#data_contrib = pd.read_csv(url_contrib, compression='gzip', error_bad_lines=False)"
   ]
  },
  {
   "cell_type": "markdown",
   "metadata": {},
   "source": [
    "# Profiling"
   ]
  },
  {
   "cell_type": "markdown",
   "metadata": {},
   "source": [
    "Voici un aperçu complet du dataset *buildings*:"
   ]
  },
  {
   "cell_type": "code",
   "execution_count": 3,
   "metadata": {
    "scrolled": true
   },
   "outputs": [],
   "source": [
    "#profile_build = data_build.profile_report()\n",
    "#profile_build"
   ]
  },
  {
   "cell_type": "markdown",
   "metadata": {},
   "source": [
    "Voici un aperçu complet du dataset *contributions*:"
   ]
  },
  {
   "cell_type": "code",
   "execution_count": 4,
   "metadata": {},
   "outputs": [],
   "source": [
    "#profile_contrib = data_contrib.profile_report()\n",
    "#profile_contrib"
   ]
  },
  {
   "cell_type": "markdown",
   "metadata": {},
   "source": [
    "# Analyse de l'exploitabilité des datasets"
   ]
  },
  {
   "cell_type": "markdown",
   "metadata": {},
   "source": [
    "- la deuxième colonne du dataset *buildings* a un format particulier (dictionnaire)\n",
    "- pas de valeurs manquantes pour les 4 premières colonnes, 60% de données manquantes pour la dernière dans *buildings*\n",
    "- dans le dataset *contributions*, seule les 2 premières colonnes sont exploitables \n",
    "\n",
    "Les deux datasets peuvent être couplés par leur ID (qui correspond à la première colonne) et peuvent être utilisés pour faire de la prédiction de l'orientation des toits. Leur utilisation n'est cependant pas immédiate, voir ce repot github : https://github.com/opensolarmap/solml pour plus de détails.\n",
    "\n",
    "A l’aide de ce dataset, une fois couplé avec la carte géographique correspondante aux coordonnées, on pourrait répondre à des questions telles que: quelle est l’orientation de ce toit (nord, sud, ouest, est)?"
   ]
  }
 ],
 "metadata": {
  "kernelspec": {
   "display_name": "Python 3",
   "language": "python",
   "name": "python3"
  },
  "language_info": {
   "codemirror_mode": {
    "name": "ipython",
    "version": 3
   },
   "file_extension": ".py",
   "mimetype": "text/x-python",
   "name": "python",
   "nbconvert_exporter": "python",
   "pygments_lexer": "ipython3",
   "version": "3.8.5"
  }
 },
 "nbformat": 4,
 "nbformat_minor": 4
}
