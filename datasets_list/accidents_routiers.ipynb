{
 "cells": [
  {
   "cell_type": "markdown",
   "metadata": {},
   "source": [
    "# Profiling du dataset *Accidents corporels de la circulation routière*"
   ]
  },
  {
   "cell_type": "markdown",
   "metadata": {},
   "source": [
    "Dans ce notebook, on évalue l'exploitabilité du jeu de données *Bases de données annuelles des accidents corporels de la circulation routière - Années de 2005 à 2019* (https://www.data.gouv.fr/fr/datasets/bases-de-donnees-annuelles-des-accidents-corporels-de-la-circulation-routiere-annees-de-2005-a-2019/#_) par des algorithmes de Machine Learning. Ici on s'intéresse aux données de 2019 et on concatène chacun des datasets disponibles: *caractéristique*, *lieux*, *véhicule*,*usager* (donnant plusieurs caractéristiques des accidents) dans un unique dataset."
   ]
  },
  {
   "cell_type": "code",
   "execution_count": 1,
   "metadata": {},
   "outputs": [],
   "source": [
    "import pandas as pd\n",
    "import pandas_profiling\n",
    "from pandas_profiling import ProfileReport"
   ]
  },
  {
   "cell_type": "markdown",
   "metadata": {},
   "source": [
    "## Import des datasets"
   ]
  },
  {
   "cell_type": "code",
   "execution_count": 2,
   "metadata": {},
   "outputs": [],
   "source": [
    "carac = pd.read_csv('https://www.data.gouv.fr/fr/datasets/r/e22ba475-45a3-46ac-a0f7-9ca9ed1e283a',sep=';')\n",
    "lieux = pd.read_csv('https://www.data.gouv.fr/fr/datasets/r/2ad65965-36a1-4452-9c08-61a6c874e3e6',sep=';')\n",
    "veh = pd.read_csv('https://www.data.gouv.fr/fr/datasets/r/780cd335-5048-4bd6-a841-105b44eb2667',sep=';')\n",
    "usag = pd.read_csv('https://www.data.gouv.fr/fr/datasets/r/36b1b7b3-84b4-4901-9163-59ae8a9e3028',sep=';')"
   ]
  },
  {
   "cell_type": "code",
   "execution_count": 3,
   "metadata": {},
   "outputs": [],
   "source": [
    "#a=pd.merge(usag,veh,on='Num_Acc')\n",
    "#b=pd.merge(a,carac,on='Num_Acc')\n",
    "#data=pd.merge(b,lieux,on='Num_Acc')  #création d'un unique dataset"
   ]
  },
  {
   "cell_type": "markdown",
   "metadata": {},
   "source": [
    "## Profiling du dataset"
   ]
  },
  {
   "cell_type": "code",
   "execution_count": 7,
   "metadata": {
    "scrolled": true
   },
   "outputs": [],
   "source": [
    "#profile_accidents_routiers = data.profile_report()\n",
    "#profile_accidents_routiers.to_file(\"accidents_routiers.html\")"
   ]
  },
  {
   "cell_type": "markdown",
   "metadata": {},
   "source": [
    "# Analyse de l'exploitabilité du dataset\n",
    "\n",
    "- la taille du dataset le rend exploitable par des algorithmes de Machine Learning (nombre de lignes de l'ordre de $10^{5}$ et 56 colonnes)\n",
    "- 27 variables numériques et 29 catégorielles\n",
    "- classes déséquilibrées pour la variable *grav* (potentiellement notre variable explicative)\n",
    "- 2 variables avec 99% de valeurs manquantes\n",
    "\n",
    "Ce dataset est exploitable par des algorithmes de Machine Learning. On pourrait par exemple répondre à des questions telles que : quelle est la gravité d'un accident routier étant donné sa position géographique?"
   ]
  }
 ],
 "metadata": {
  "kernelspec": {
   "display_name": "Python 3",
   "language": "python",
   "name": "python3"
  },
  "language_info": {
   "codemirror_mode": {
    "name": "ipython",
    "version": 3
   },
   "file_extension": ".py",
   "mimetype": "text/x-python",
   "name": "python",
   "nbconvert_exporter": "python",
   "pygments_lexer": "ipython3",
   "version": "3.8.5"
  }
 },
 "nbformat": 4,
 "nbformat_minor": 4
}
