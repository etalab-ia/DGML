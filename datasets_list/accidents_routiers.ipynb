{
 "cells": [
  {
   "cell_type": "markdown",
   "metadata": {},
   "source": [
    "# Profiling du dataset *Accidents corporels de la circulation routière*"
   ]
  },
  {
   "cell_type": "markdown",
   "metadata": {},
   "source": [
    "Dans ce notebook, on évalue l'exploitabilité du jeu de données *Bases de données annuelles des accidents corporels de la circulation routière - Années de 2005 à 2019* (https://www.data.gouv.fr/fr/datasets/bases-de-donnees-annuelles-des-accidents-corporels-de-la-circulation-routiere-annees-de-2005-a-2019/#_) par des algorithmes de Machine Learning. Ici on s'intéresse aux données de 2019 et on concatène chacun des datasets disponibles: *caractéristique*, *lieux*, *véhicule*,*usager* (donnant plusieurs caractéristiques des accidents) dans un unique dataset."
   ]
  },
  {
   "cell_type": "code",
   "execution_count": 31,
   "metadata": {},
   "outputs": [],
   "source": [
    "import pandas as pd\n",
    "import pandas_profiling\n",
    "from pandas_profiling import ProfileReport"
   ]
  },
  {
   "cell_type": "markdown",
   "metadata": {},
   "source": [
    "## Import des datasets"
   ]
  },
  {
   "cell_type": "code",
   "execution_count": 34,
   "metadata": {},
   "outputs": [],
   "source": [
    "data = pd.read_csv('https://www.data.gouv.fr/fr/datasets/r/6af37c98-0933-4ae4-8380-5f63212fb52a',index_col=0)"
   ]
  },
  {
   "cell_type": "markdown",
   "metadata": {},
   "source": [
    "## Profiling du dataset"
   ]
  },
  {
   "cell_type": "code",
   "execution_count": 7,
   "metadata": {
    "scrolled": true
   },
   "outputs": [],
   "source": [
    "#profile_accidents_routiers = data.profile_report()\n",
    "#profile_accidents_routiers.to_file(\"accidents_routiers.html\")"
   ]
  },
  {
   "cell_type": "markdown",
   "metadata": {},
   "source": [
    "# Analyse de l'exploitabilité du dataset\n",
    "\n",
    "- la taille du dataset le rend exploitable par des algorithmes de Machine Learning (nombre de lignes de l'ordre de $10^{5}$ et 56 colonnes)\n",
    "- 27 variables numériques et 29 catégorielles\n",
    "- classes déséquilibrées pour la variable *grav* (potentiellement notre variable explicative)\n",
    "- 2 variables avec 99% de valeurs manquantes\n",
    "\n",
    "Ce dataset est exploitable par des algorithmes de Machine Learning. On pourrait par exemple répondre à des questions telles que : quelle est la gravité d'un accident routier étant donné sa position géographique?"
   ]
  }
 ],
 "metadata": {
  "kernelspec": {
   "display_name": "Python 3",
   "language": "python",
   "name": "python3"
  },
  "language_info": {
   "codemirror_mode": {
    "name": "ipython",
    "version": 3
   },
   "file_extension": ".py",
   "mimetype": "text/x-python",
   "name": "python",
   "nbconvert_exporter": "python",
   "pygments_lexer": "ipython3",
   "version": "3.8.5"
  }
 },
 "nbformat": 4,
 "nbformat_minor": 4
}
