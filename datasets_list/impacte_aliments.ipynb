{
 "cells": [
  {
   "cell_type": "markdown",
   "metadata": {},
   "source": [
    "# Profiling du dataset *Agribalyse*"
   ]
  },
  {
   "cell_type": "markdown",
   "metadata": {},
   "source": [
    "Dans ce notebook, on évalue l'exploitabilité du jeu de données *AGRIBALYSE® - Synthèse*(https://www.data.gouv.fr/fr/datasets/agribalyse-r-synthese-1/) par des algorithmes de Machine Learning. AGRIBALYSE® est une base de données de référence des indicateurs d'impacts environnementaux des produits agricoles produits en France et des produits alimentaires consommés en France. "
   ]
  },
  {
   "cell_type": "code",
   "execution_count": 1,
   "metadata": {},
   "outputs": [],
   "source": [
    "import pandas as pd\n",
    "import pandas_profiling\n",
    "from pandas_profiling import ProfileReport"
   ]
  },
  {
   "cell_type": "markdown",
   "metadata": {},
   "source": [
    "## Import du dataset"
   ]
  },
  {
   "cell_type": "code",
   "execution_count": 2,
   "metadata": {},
   "outputs": [],
   "source": [
    "url = 'https://www.data.gouv.fr/fr/datasets/r/c763b24a-a0fe-4e77-9586-3d5453c631cd'\n",
    "data_agrib = pd.read_csv(url)"
   ]
  },
  {
   "cell_type": "markdown",
   "metadata": {},
   "source": [
    "## Profiling"
   ]
  },
  {
   "cell_type": "code",
   "execution_count": 3,
   "metadata": {
    "scrolled": true
   },
   "outputs": [],
   "source": [
    "profile_agrib = data_agrib.profile_report()\n",
    "#profile_agrib"
   ]
  },
  {
   "cell_type": "markdown",
   "metadata": {},
   "source": [
    "# Analyse de l'exploitabilité du dataset\n",
    "\n",
    "- la taille du dataset (nombre de lignes de l'ordre de $10^{3}$ et 27 colonnes) permet de faire du Machine Learning\n",
    "- 16 variables numériques et 11 variables catégorielles (attention *Pandas profiling* se trompe parfois dans le classement automatique du type de variable)\n",
    "- 2 variables (*Nom du produit en français* et *LCI Name*) à haute cardinalité qui pourraient poser problème \n",
    "- Plusieurs variables multiclasses (*Saisonnalité*, *Préparation* etc.) déséquilibrées\n",
    "- Plusieurs corrélations intéressantes entre variables\n",
    "- pas de valeurs manquantes\n",
    "\n",
    "Ce dataset est exploitable par des algorithmes de Machine Learning et permetterait de répondre à des questions telles que: quel est l'impacte environmental d'une viande emballée dans du carton et expediée en avion?"
   ]
  }
 ],
 "metadata": {
  "kernelspec": {
   "display_name": "Python 3",
   "language": "python",
   "name": "python3"
  },
  "language_info": {
   "codemirror_mode": {
    "name": "ipython",
    "version": 3
   },
   "file_extension": ".py",
   "mimetype": "text/x-python",
   "name": "python",
   "nbconvert_exporter": "python",
   "pygments_lexer": "ipython3",
   "version": "3.8.5"
  }
 },
 "nbformat": 4,
 "nbformat_minor": 4
}
