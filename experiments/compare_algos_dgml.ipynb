{
 "cells": [
  {
   "cell_type": "markdown",
   "metadata": {},
   "source": [
    "Dans ce notebook, on observe, à l'aide de statistiques descriptives, les algorithmes les plus performants sur l'ensemble des jeux de données présents dans DGML"
   ]
  },
  {
   "cell_type": "code",
   "execution_count": 1,
   "metadata": {},
   "outputs": [],
   "source": [
    "import pandas as pd\n"
   ]
  },
  {
   "cell_type": "code",
   "execution_count": 2,
   "metadata": {},
   "outputs": [],
   "source": [
    "dgml_classif = pd.read_csv('dgml_classif.csv')"
   ]
  },
  {
   "cell_type": "code",
   "execution_count": 4,
   "metadata": {},
   "outputs": [
    {
     "data": {
      "text/plain": [
       "array(['4_Default_Xgboost', 'Ensemble', '3_Default_Xgboost',\n",
       "       '2_DecisionTree', '5_Default_RandomForest',\n",
       "       '5_Default_NeuralNetwork', '6_Default_RandomForest',\n",
       "       '4_Default_NeuralNetwork'], dtype=object)"
      ]
     },
     "execution_count": 4,
     "metadata": {},
     "output_type": "execute_result"
    }
   ],
   "source": [
    "dgml_classif.best_model.unique()"
   ]
  },
  {
   "cell_type": "code",
   "execution_count": 8,
   "metadata": {},
   "outputs": [],
   "source": [
    "dgml_classif.best_model.replace({'4_Default_Xgboost': 'Default_Xgboost', \"3_Default_Xgboost\": 'Default_Xgboost',\n",
    "                                '2_DecisionTree':'DecisionTree','5_Default_RandomForest':'Default_RandomForest',\n",
    "                                '5_Default_NeuralNetwork':'Default_NeuralNetwork',\n",
    "                                '6_Default_RandomForest':'Default_RandomForest',\n",
    "                                '4_Default_NeuralNetwork':'Default_NeuralNetwork'},\n",
    "                                inplace=True)"
   ]
  },
  {
   "cell_type": "code",
   "execution_count": 9,
   "metadata": {},
   "outputs": [
    {
     "data": {
      "text/plain": [
       "array(['Default_Xgboost', 'Ensemble', 'DecisionTree',\n",
       "       'Default_RandomForest', 'Default_NeuralNetwork'], dtype=object)"
      ]
     },
     "execution_count": 9,
     "metadata": {},
     "output_type": "execute_result"
    }
   ],
   "source": [
    "dgml_classif.best_model.unique()"
   ]
  },
  {
   "cell_type": "code",
   "execution_count": 11,
   "metadata": {
    "scrolled": true
   },
   "outputs": [
    {
     "data": {
      "text/plain": [
       "5"
      ]
     },
     "execution_count": 11,
     "metadata": {},
     "output_type": "execute_result"
    }
   ],
   "source": [
    "dgml_classif.best_model.nunique()"
   ]
  },
  {
   "cell_type": "code",
   "execution_count": 15,
   "metadata": {},
   "outputs": [
    {
     "data": {
      "text/html": [
       "<div>\n",
       "<style scoped>\n",
       "    .dataframe tbody tr th:only-of-type {\n",
       "        vertical-align: middle;\n",
       "    }\n",
       "\n",
       "    .dataframe tbody tr th {\n",
       "        vertical-align: top;\n",
       "    }\n",
       "\n",
       "    .dataframe thead th {\n",
       "        text-align: right;\n",
       "    }\n",
       "</style>\n",
       "<table border=\"1\" class=\"dataframe\">\n",
       "  <thead>\n",
       "    <tr style=\"text-align: right;\">\n",
       "      <th></th>\n",
       "      <th>title</th>\n",
       "      <th>dgf_dataset_url</th>\n",
       "      <th>dgf_dataset_id</th>\n",
       "      <th>dgf_resource_url</th>\n",
       "      <th>nb_lines</th>\n",
       "      <th>nb_features</th>\n",
       "      <th>profile_url</th>\n",
       "      <th>automl_url</th>\n",
       "      <th>target_variable</th>\n",
       "      <th>task</th>\n",
       "      <th>dgf_resource_id</th>\n",
       "      <th>metric_type</th>\n",
       "      <th>metric_value</th>\n",
       "      <th>score</th>\n",
       "      <th>missing_cells_pct</th>\n",
       "      <th>nb_numerical</th>\n",
       "      <th>nb_categorical</th>\n",
       "      <th>nb_classes_target</th>\n",
       "      <th>imbalance</th>\n",
       "    </tr>\n",
       "    <tr>\n",
       "      <th>best_model</th>\n",
       "      <th></th>\n",
       "      <th></th>\n",
       "      <th></th>\n",
       "      <th></th>\n",
       "      <th></th>\n",
       "      <th></th>\n",
       "      <th></th>\n",
       "      <th></th>\n",
       "      <th></th>\n",
       "      <th></th>\n",
       "      <th></th>\n",
       "      <th></th>\n",
       "      <th></th>\n",
       "      <th></th>\n",
       "      <th></th>\n",
       "      <th></th>\n",
       "      <th></th>\n",
       "      <th></th>\n",
       "      <th></th>\n",
       "    </tr>\n",
       "  </thead>\n",
       "  <tbody>\n",
       "    <tr>\n",
       "      <th>DecisionTree</th>\n",
       "      <td>75</td>\n",
       "      <td>75</td>\n",
       "      <td>75</td>\n",
       "      <td>75</td>\n",
       "      <td>75</td>\n",
       "      <td>75</td>\n",
       "      <td>75</td>\n",
       "      <td>75</td>\n",
       "      <td>75</td>\n",
       "      <td>75</td>\n",
       "      <td>75</td>\n",
       "      <td>75</td>\n",
       "      <td>75</td>\n",
       "      <td>75</td>\n",
       "      <td>75</td>\n",
       "      <td>75</td>\n",
       "      <td>75</td>\n",
       "      <td>75</td>\n",
       "      <td>75</td>\n",
       "    </tr>\n",
       "    <tr>\n",
       "      <th>Default_NeuralNetwork</th>\n",
       "      <td>4</td>\n",
       "      <td>4</td>\n",
       "      <td>4</td>\n",
       "      <td>4</td>\n",
       "      <td>4</td>\n",
       "      <td>4</td>\n",
       "      <td>4</td>\n",
       "      <td>4</td>\n",
       "      <td>4</td>\n",
       "      <td>4</td>\n",
       "      <td>4</td>\n",
       "      <td>4</td>\n",
       "      <td>4</td>\n",
       "      <td>4</td>\n",
       "      <td>4</td>\n",
       "      <td>4</td>\n",
       "      <td>4</td>\n",
       "      <td>4</td>\n",
       "      <td>4</td>\n",
       "    </tr>\n",
       "    <tr>\n",
       "      <th>Default_RandomForest</th>\n",
       "      <td>8</td>\n",
       "      <td>8</td>\n",
       "      <td>8</td>\n",
       "      <td>8</td>\n",
       "      <td>8</td>\n",
       "      <td>8</td>\n",
       "      <td>8</td>\n",
       "      <td>8</td>\n",
       "      <td>8</td>\n",
       "      <td>8</td>\n",
       "      <td>8</td>\n",
       "      <td>8</td>\n",
       "      <td>8</td>\n",
       "      <td>8</td>\n",
       "      <td>8</td>\n",
       "      <td>8</td>\n",
       "      <td>8</td>\n",
       "      <td>8</td>\n",
       "      <td>8</td>\n",
       "    </tr>\n",
       "    <tr>\n",
       "      <th>Default_Xgboost</th>\n",
       "      <td>131</td>\n",
       "      <td>131</td>\n",
       "      <td>131</td>\n",
       "      <td>131</td>\n",
       "      <td>131</td>\n",
       "      <td>131</td>\n",
       "      <td>131</td>\n",
       "      <td>131</td>\n",
       "      <td>131</td>\n",
       "      <td>131</td>\n",
       "      <td>131</td>\n",
       "      <td>131</td>\n",
       "      <td>131</td>\n",
       "      <td>131</td>\n",
       "      <td>131</td>\n",
       "      <td>131</td>\n",
       "      <td>131</td>\n",
       "      <td>131</td>\n",
       "      <td>131</td>\n",
       "    </tr>\n",
       "    <tr>\n",
       "      <th>Ensemble</th>\n",
       "      <td>54</td>\n",
       "      <td>54</td>\n",
       "      <td>54</td>\n",
       "      <td>54</td>\n",
       "      <td>54</td>\n",
       "      <td>54</td>\n",
       "      <td>54</td>\n",
       "      <td>54</td>\n",
       "      <td>54</td>\n",
       "      <td>54</td>\n",
       "      <td>54</td>\n",
       "      <td>54</td>\n",
       "      <td>54</td>\n",
       "      <td>54</td>\n",
       "      <td>54</td>\n",
       "      <td>54</td>\n",
       "      <td>54</td>\n",
       "      <td>54</td>\n",
       "      <td>54</td>\n",
       "    </tr>\n",
       "  </tbody>\n",
       "</table>\n",
       "</div>"
      ],
      "text/plain": [
       "                       title  dgf_dataset_url  dgf_dataset_id  \\\n",
       "best_model                                                      \n",
       "DecisionTree              75               75              75   \n",
       "Default_NeuralNetwork      4                4               4   \n",
       "Default_RandomForest       8                8               8   \n",
       "Default_Xgboost          131              131             131   \n",
       "Ensemble                  54               54              54   \n",
       "\n",
       "                       dgf_resource_url  nb_lines  nb_features  profile_url  \\\n",
       "best_model                                                                    \n",
       "DecisionTree                         75        75           75           75   \n",
       "Default_NeuralNetwork                 4         4            4            4   \n",
       "Default_RandomForest                  8         8            8            8   \n",
       "Default_Xgboost                     131       131          131          131   \n",
       "Ensemble                             54        54           54           54   \n",
       "\n",
       "                       automl_url  target_variable  task  dgf_resource_id  \\\n",
       "best_model                                                                  \n",
       "DecisionTree                   75               75    75               75   \n",
       "Default_NeuralNetwork           4                4     4                4   \n",
       "Default_RandomForest            8                8     8                8   \n",
       "Default_Xgboost               131              131   131              131   \n",
       "Ensemble                       54               54    54               54   \n",
       "\n",
       "                       metric_type  metric_value  score  missing_cells_pct  \\\n",
       "best_model                                                                   \n",
       "DecisionTree                    75            75     75                 75   \n",
       "Default_NeuralNetwork            4             4      4                  4   \n",
       "Default_RandomForest             8             8      8                  8   \n",
       "Default_Xgboost                131           131    131                131   \n",
       "Ensemble                        54            54     54                 54   \n",
       "\n",
       "                       nb_numerical  nb_categorical  nb_classes_target  \\\n",
       "best_model                                                               \n",
       "DecisionTree                     75              75                 75   \n",
       "Default_NeuralNetwork             4               4                  4   \n",
       "Default_RandomForest              8               8                  8   \n",
       "Default_Xgboost                 131             131                131   \n",
       "Ensemble                         54              54                 54   \n",
       "\n",
       "                       imbalance  \n",
       "best_model                        \n",
       "DecisionTree                  75  \n",
       "Default_NeuralNetwork          4  \n",
       "Default_RandomForest           8  \n",
       "Default_Xgboost              131  \n",
       "Ensemble                      54  "
      ]
     },
     "execution_count": 15,
     "metadata": {},
     "output_type": "execute_result"
    }
   ],
   "source": [
    "dgml_classif.groupby('best_model').count()"
   ]
  },
  {
   "cell_type": "code",
   "execution_count": null,
   "metadata": {},
   "outputs": [],
   "source": []
  }
 ],
 "metadata": {
  "kernelspec": {
   "display_name": "Python 3",
   "language": "python",
   "name": "python3"
  },
  "language_info": {
   "codemirror_mode": {
    "name": "ipython",
    "version": 3
   },
   "file_extension": ".py",
   "mimetype": "text/x-python",
   "name": "python",
   "nbconvert_exporter": "python",
   "pygments_lexer": "ipython3",
   "version": "3.8.5"
  }
 },
 "nbformat": 4,
 "nbformat_minor": 4
}
